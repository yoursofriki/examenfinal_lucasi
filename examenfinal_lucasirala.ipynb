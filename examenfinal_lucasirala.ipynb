{
 "cells": [
  {
   "cell_type": "code",
   "execution_count": null,
   "metadata": {},
   "outputs": [],
   "source": [
    "class Vehiculo:\n",
    "    def __init__(self, marca, modelo, año, color):\n",
    "        self.marca = marca\n",
    "        self.modelo = modelo\n",
    "        self.año = año\n",
    "        self.color = color\n",
    "    \n",
    "    def __str__(self):\n",
    "        return f\"Marca: {self.marca}, Modelo: {self.modelo}, Año: {self.año}, Color: {self.color}\"\n",
    "\n",
    "    def arrancar(self):\n",
    "        print(f\"El auto {self.marca} esta arrancando\")\n",
    "    \n",
    "    def frenar(self):\n",
    "        print(f\"El auto {self.marca} esta frenando\")\n",
    "\n",
    "class Coche(Vehiculo):\n",
    "    def __init__(self, marca, modelo, año, color, numero_puertas, tipo_combustible):\n",
    "        super().__init__(marca, modelo, año, color)\n",
    "        self.numero_puertas = numero_puertas\n",
    "        self.tipo_combustible = tipo_combustible\n",
    "\n",
    "    def abrir_maletero(self):\n",
    "        print(f\"El maletero del auto {self.modelo} se está abriendo.\")\n",
    "\n",
    "\n",
    "coche1 = Coche(\"Toyota\", \"Corolla\", 2023, \"Rojo\", 4, \"Gasolina\")\n",
    "coche2 = Coche(\"Ford\", \"Focus\", 2020, \"Negro\", 5, \"Diesel\")\n",
    "\n",
    "print(coche1)\n",
    "coche1.arrancar()\n",
    "coche1.frenar()\n",
    "coche1.abrir_maletero()\n",
    "\n",
    "print(coche2)\n",
    "coche2.arrancar()\n",
    "coche2.frenar()\n",
    "coche2.abrir_maletero()\n",
    "\n"
   ]
  }
 ],
 "metadata": {
  "language_info": {
   "name": "python"
  }
 },
 "nbformat": 4,
 "nbformat_minor": 2
}
